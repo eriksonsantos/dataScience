{
 "cells": [
  {
   "cell_type": "code",
   "execution_count": null,
   "metadata": {},
   "outputs": [],
   "source": []
  }
 ],
 "metadata": {
  "kernelspec": {
   "display_name": "env",
   "language": "python",
   "name": "python3"
  },
  "language_info": {
   "name": "python",
   "version": "3.8.10"
  },
  "orig_nbformat": 4,
  "vscode": {
   "interpreter": {
    "hash": "c66a052ddf619d22fea8648e21520c62586234f3d2de177478b9625fc2ab3e16"
   }
  }
 },
 "nbformat": 4,
 "nbformat_minor": 2
}
